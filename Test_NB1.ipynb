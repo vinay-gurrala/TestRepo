{
 "cells": [
  {
   "cell_type": "code",
   "execution_count": null,
<<<<<<< HEAD
   "id": "0572a7f1",
=======
   "id": "66c4ed02",
>>>>>>> branch1
   "metadata": {},
   "outputs": [],
   "source": [
    "if 'a' in 'vinay':\n",
<<<<<<< HEAD
    "    print('a is present')\n",
    "else:\n",
    "    print('a is not present')"
=======
    "    print('vinay contains vowel')\n",
    "else:\n",
    "    print('no')"
>>>>>>> branch1
   ]
  }
 ],
 "metadata": {
  "kernelspec": {
   "display_name": "Python 3 (ipykernel)",
   "language": "python",
   "name": "python3"
  },
  "language_info": {
   "codemirror_mode": {
    "name": "ipython",
    "version": 3
   },
   "file_extension": ".py",
   "mimetype": "text/x-python",
   "name": "python",
   "nbconvert_exporter": "python",
   "pygments_lexer": "ipython3",
   "version": "3.10.10"
  },
  "widgets": {
   "application/vnd.jupyter.widget-state+json": {
    "state": {},
    "version_major": 2,
    "version_minor": 0
   }
  }
 },
 "nbformat": 4,
 "nbformat_minor": 5
}
